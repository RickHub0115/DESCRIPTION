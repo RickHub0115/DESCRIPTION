{
 "cells": [
  {
   "cell_type": "markdown",
   "metadata": {},
   "source": [
    "# Visual Studio Code"
   ]
  },
  {
   "cell_type": "markdown",
   "metadata": {},
   "source": [
    "## Initial Setting"
   ]
  },
  {
   "cell_type": "markdown",
   "metadata": {},
   "source": [
    "**Terminal**\n",
    "<br>\n",
    "・open Microsoft terminal\n",
    "<br>\n",
    "<br>\n",
    "**Setting**\n",
    "<br>\n",
    "・git config --global user.name { 名前を入力する }\n",
    "<br>\n",
    "・git config --global user.email { メールアドレスを入力する }"
   ]
  },
  {
   "cell_type": "markdown",
   "metadata": {},
   "source": [
    "## How to use"
   ]
  },
  {
   "cell_type": "markdown",
   "metadata": {},
   "source": [
    "### **Repository**"
   ]
  },
  {
   "cell_type": "markdown",
   "metadata": {},
   "source": [
    "**ローカルリポジトリの作成**<br>\n",
    "・ソース管理 → リポジトリの初期化\n",
    "\n",
    "**リモートリポジトリの作成**<br>\n",
    "・+ → New repository → HTTPS<br>\n",
    "・ソース管理 → … → リモートの追加"
   ]
  },
  {
   "cell_type": "markdown",
   "metadata": {},
   "source": [
    "### **Git**"
   ]
  },
  {
   "cell_type": "markdown",
   "metadata": {},
   "source": [
    "**add**<br>\n",
    "・変更したファイルをステージングエリアに追加する。\n",
    "\n",
    "**commit**<br>\n",
    "・ステージングエリアに追加された変更をリポジトリに記録する。<br>\n",
    "・各commitには一意のID（コミットハッシュ）と、変更の説明を含むコミットメッセージが付けられる。\n",
    "\n",
    "**branch**<br>\n",
    "・異なる開発作業を分岐させるために使用される\n",
    "\n",
    "**merge**<br>\n",
    "・2つの異なるbranchの変更を統合する。<br>\n",
    "・被mergeのブランチを基準にして、mergeしたいbranchを右クリックする。<br>\n",
    "\n",
    "**conflict**<br>\n",
    "・複数のブランチで同じファイルの同じ部分が異なる方法で変更された場合に発生する。<br>\n",
    "・ソース管理 → 変更 からファイルを修正する。\n",
    "\n",
    "**reset**<br>\n",
    "・コミットを取り消す。<br>\n",
    "・取り消すbranchの１つ前のbranchについて、\n",
    "・Git graph → 右クリック → Reset current branch...<br>\n",
    "・Hardを選択する。\n",
    "\n"
   ]
  },
  {
   "cell_type": "markdown",
   "metadata": {},
   "source": [
    "### **github**"
   ]
  },
  {
   "cell_type": "markdown",
   "metadata": {},
   "source": [
    "**push**<br>\n",
    "・ローカルリポジトリの変更をリモートリポジトリにアップロードする。<br>\n",
    "・vscode左下 → 〇：push<br>\n",
    "・Branchの発行：初push\n",
    "\n",
    "**pull**<br>\n",
    "・リモートリポジトリの最新の変更をローカルリポジトリに取り込む。<br>\n",
    "・変更の同期：pull\n",
    "\n",
    "**clone**<br>\n",
    "・リモートリポジトリのコピーをローカルリポジトリに作成する。<br>\n",
    "・vscode → リポジトリの複製 → フォルダ作成\n",
    "\n",
    "**pull request**<br>\n",
    "・開発者が自分のブランチの変更を別のブランチ（通常はメインブランチ）に統合することをリクエストする。<br>\n",
    "・github → compare and pull request( 依頼先：Reviewer )"
   ]
  },
  {
   "cell_type": "markdown",
   "metadata": {},
   "source": [
    "## githubのリモートリポジトリからpull"
   ]
  },
  {
   "cell_type": "markdown",
   "metadata": {},
   "source": [
    "**1.リポジトリをクローンする (初回のみ):**<br>\n",
    "・まだローカルにリポジトリがない場合は、まずGitHubからリポジトリをクローンする必要があります。これは、VS Codeのコマンドパレット（Ctrl+Shift+PまたはCmd+Shift+P）を開き、「Git: Clone」と入力し、GitHubリポジトリのURLを入力することで行えます。\n",
    "\n",
    "**2.プルするブランチを確認する:**<br>\n",
    "・リポジトリが既にローカルにある場合、VS Codeの左下にあるブランチアイコンをクリックして、現在チェックアウトされているブランチを確認します。\n",
    "\n",
    "**3.プル操作を実行する:**<br>\n",
    "・プルするには、VS Codeの左下のステータスバーにある同期アイコン（矢印が円を形成しているアイコン）をクリックします。これにより、現在のブランチに対してリモートリポジトリの変更がプルされます。\n",
    "・または、ソースコントロールビュー（サイドバーのブランチアイコン）を開き、「...」メニューから「プル」を選択することもできます。\n",
    "\n",
    "**4.プルの結果を確認する:**<br>\n",
    "・プル操作後、VS Codeのソースコントロールビューやターミナルで変更点を確認します。\n",
    "\n",
    "**5.認証の要求に応答する:**<br>\n",
    "・GitHubからプルする際に認証情報（ユーザー名とパスワード、またはアクセストークン）の入力を求められることがあります。これは、GitHubアカウントに対するアクセス許可を確認するためです。"
   ]
  },
  {
   "cell_type": "markdown",
   "metadata": {},
   "source": [
    "# Visual Studio Code .ipynb"
   ]
  },
  {
   "cell_type": "markdown",
   "metadata": {},
   "source": [
    "参考サイト\n",
    "\n",
    "・https://atmarkit.itmedia.co.jp/ait/articles/2108/06/news030.html"
   ]
  },
  {
   "cell_type": "markdown",
   "metadata": {},
   "source": []
  }
 ],
 "metadata": {
  "language_info": {
   "name": "python"
  }
 },
 "nbformat": 4,
 "nbformat_minor": 2
}
