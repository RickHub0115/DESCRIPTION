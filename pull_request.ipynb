{
 "cells": [
  {
   "cell_type": "markdown",
   "id": "c233e54a",
   "metadata": {},
   "source": [
    "# Pull Request"
   ]
  },
  {
   "cell_type": "markdown",
   "id": "8176edd4",
   "metadata": {},
   "source": [
    "自分が作成したブランチをマージして良いか，メッセージを送り，確認してもらいます．"
   ]
  },
  {
   "cell_type": "markdown",
   "id": "0e3a8c60",
   "metadata": {},
   "source": [
    "**mainブランチと衝突した場合**\n",
    "\n",
    "githubの画面上で，衝突した箇所を修正します．\"Resolve Conflict\"が出てきます．\n",
    "\n",
    "github上で衝突箇所を削除し，衝突を解消します．\n",
    "\n",
    "そしたら，**自分の作業ブランチ**でpullしてみます．(git pull origin my_branch)\n",
    "\n",
    "すると，衝突を解消した箇所が，自分のブランチにも反映されているはずです．\n",
    "\n",
    "マージをするまえに，自分のブランチでpushした内容は，PRに残されます．つまり，その情報もマージされます．"
   ]
  },
  {
   "cell_type": "markdown",
   "id": "8a4b6b6d",
   "metadata": {},
   "source": []
  }
 ],
 "metadata": {
  "language_info": {
   "name": "python"
  }
 },
 "nbformat": 4,
 "nbformat_minor": 5
}
