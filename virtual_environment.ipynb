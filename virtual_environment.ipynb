{
 "cells": [
  {
   "cell_type": "markdown",
   "metadata": {},
   "source": [
    "# 仮想環境"
   ]
  },
  {
   "cell_type": "markdown",
   "metadata": {},
   "source": [
    "## 仮想環境とは？"
   ]
  },
  {
   "cell_type": "markdown",
   "metadata": {},
   "source": []
  },
  {
   "cell_type": "markdown",
   "metadata": {},
   "source": [
    "## Command"
   ]
  },
  {
   "cell_type": "markdown",
   "metadata": {},
   "source": [
    "**実行準備**\n",
    "\n",
    "・control + @<br>\n",
    "・+<br>\n",
    ".command prompt"
   ]
  },
  {
   "cell_type": "markdown",
   "metadata": {},
   "source": [
    "**仮想環境**<br>\n",
    "・C:\\Users\\ricke\\anaconda3\\Script\\activate<br>\n",
    "\n",
    "**仮想環境を作成**\n",
    "・conda create --name { 仮想環境名 } python={ バージョン }\n",
    "\n",
    "**仮想環境をactivate**\n",
    "・conda activate { 仮想環境名 }\n",
    "\n",
    "**仮想環境からdeactivate**\n",
    "・conde deactivate\n",
    "\n",
    "**仮想環境を削除**\n",
    "・conda remove --name { 仮想環境名 } --all\n",
    "\n",
    "**ライブラリをインストール**\n",
    "・conda install { ライブラリ名 }"
   ]
  },
  {
   "cell_type": "markdown",
   "metadata": {},
   "source": []
  }
 ],
 "metadata": {
  "language_info": {
   "name": "python"
  }
 },
 "nbformat": 4,
 "nbformat_minor": 2
}
