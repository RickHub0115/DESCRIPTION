{
 "cells": [
  {
   "cell_type": "markdown",
   "id": "e1d27a00",
   "metadata": {},
   "source": [
    "git status : 変更されたファイルや現在のブランチの状態を確認\n",
    "\n",
    "git log : コミットの履歴を確認（qで終了）\n",
    "\n",
    "git branch : 現在のブランチやローカルのブランチ一覧を取得"
   ]
  },
  {
   "cell_type": "markdown",
   "id": "1a3e840e",
   "metadata": {},
   "source": [
    "git checkout -b ブランチ名 : ブランチを新規作成して移動\n",
    "\n",
    "git checkout ブランチ名 : 既存ブランチに移動\n",
    "\n",
    "git branch -d ブランチ名 : ブランチを削除（マージ済みでないと失敗）\n",
    "\n",
    "git merge ブランチ名 : 他のブランチを現在のブランチにマージ"
   ]
  },
  {
   "cell_type": "markdown",
   "id": "4c10e862",
   "metadata": {},
   "source": [
    "git add . : すべての変更をステージ\n",
    "\n",
    "git add ファイル名 : 特定ファイルだけステージ\n",
    "\n",
    "git commit -m \"メッセージ\"  ステージした変更をコミット\n",
    "\n",
    "git reset --hard : 作業内容をすべて元に戻す"
   ]
  },
  {
   "cell_type": "markdown",
   "id": "e212702b",
   "metadata": {},
   "source": [
    "git push origin ブランチ名 : リモートにブランチをプッシュ\n",
    "\n",
    "git pull origin ブランチ名 : リモートからブランを取得・マージ\n",
    "\n",
    "git fetch : 最新のリモート情報を取得（マージなし）"
   ]
  },
  {
   "cell_type": "markdown",
   "id": "f24ae18b",
   "metadata": {},
   "source": []
  }
 ],
 "metadata": {
  "language_info": {
   "name": "python"
  }
 },
 "nbformat": 4,
 "nbformat_minor": 5
}
