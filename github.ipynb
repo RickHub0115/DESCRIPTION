{
 "cells": [
  {
   "cell_type": "markdown",
   "metadata": {},
   "source": [
    "# **github**"
   ]
  },
  {
   "cell_type": "markdown",
   "metadata": {},
   "source": [
    "**ID**\n",
    "<br>\n",
    "・ririri-nori"
   ]
  },
  {
   "cell_type": "markdown",
   "metadata": {},
   "source": [
    "**How to invite**\n",
    "<br>\n",
    "・Setting\n",
    "<br>\n",
    "・Collaborators\n",
    "<br>\n",
    "・Add people"
   ]
  }
 ],
 "metadata": {
  "language_info": {
   "name": "python"
  }
 },
 "nbformat": 4,
 "nbformat_minor": 2
}
