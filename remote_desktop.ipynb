{
 "cells": [
  {
   "cell_type": "markdown",
   "metadata": {},
   "source": [
    "# リモートデスクトップでAnacondaをインストールする"
   ]
  },
  {
   "cell_type": "markdown",
   "metadata": {},
   "source": [
    "一例\n",
    "\n",
    "・Anacondaのホームページから、インストールしたいパッケージをローカルに保存\n",
    "\n",
    "・bash {パッケージ名}"
   ]
  }
 ],
 "metadata": {
  "kernelspec": {
   "display_name": "cfml",
   "language": "python",
   "name": "python3"
  },
  "language_info": {
   "codemirror_mode": {
    "name": "ipython",
    "version": 3
   },
   "file_extension": ".py",
   "mimetype": "text/x-python",
   "name": "python",
   "nbconvert_exporter": "python",
   "pygments_lexer": "ipython3",
   "version": "3.9.20"
  }
 },
 "nbformat": 4,
 "nbformat_minor": 2
}
